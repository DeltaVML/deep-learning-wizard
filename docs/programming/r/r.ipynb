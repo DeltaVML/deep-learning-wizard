{
 "cells": [
  {
   "cell_type": "markdown",
   "id": "ae8eb625-4654-4bb4-b629-a77a57ca431c",
   "metadata": {},
   "source": [
    "# R"
   ]
  },
  {
   "cell_type": "markdown",
   "id": "84c2f886-cc5c-4d28-87f2-c1478fe56449",
   "metadata": {},
   "source": [
    "## Quick Start Basics"
   ]
  },
  {
   "cell_type": "markdown",
   "id": "0ea302d3-42af-464d-b566-190c2d2e02f3",
   "metadata": {},
   "source": [
    "### Variable Object"
   ]
  },
  {
   "cell_type": "code",
   "execution_count": 3,
   "id": "0c3723aa-3ee7-48b2-9f2d-ce7575ae06b0",
   "metadata": {},
   "outputs": [
    {
     "name": "stdout",
     "output_type": "stream",
     "text": [
      "[1] 2\n"
     ]
    }
   ],
   "source": [
    "var_a <- 2\n",
    "print(var_a)"
   ]
  },
  {
   "cell_type": "code",
   "execution_count": 5,
   "id": "0cb8d612-085f-4ead-9013-8bdb7e786232",
   "metadata": {},
   "outputs": [
    {
     "name": "stdout",
     "output_type": "stream",
     "text": [
      "[1] 3\n"
     ]
    }
   ],
   "source": [
    "var_b = 3\n",
    "print(var_b)"
   ]
  },
  {
   "cell_type": "markdown",
   "id": "f0174479-2392-45b5-b773-69054a9dae4d",
   "metadata": {},
   "source": [
    "### Check Object Type"
   ]
  },
  {
   "cell_type": "code",
   "execution_count": 4,
   "id": "1564a936-243f-4696-a2eb-1e30a81fea79",
   "metadata": {},
   "outputs": [
    {
     "data": {
      "text/html": [
       "'numeric'"
      ],
      "text/latex": [
       "'numeric'"
      ],
      "text/markdown": [
       "'numeric'"
      ],
      "text/plain": [
       "[1] \"numeric\""
      ]
     },
     "metadata": {},
     "output_type": "display_data"
    }
   ],
   "source": [
    "# In this case, it's a numeric type\n",
    "class(var_a)"
   ]
  },
  {
   "cell_type": "markdown",
   "id": "57438854-9400-4187-a7f3-bc381cec015b",
   "metadata": {},
   "source": [
    "### List"
   ]
  },
  {
   "cell_type": "code",
   "execution_count": 31,
   "id": "1d3402d4-3364-4960-b592-e69217a4fc95",
   "metadata": {},
   "outputs": [
    {
     "data": {
      "text/html": [
       "<style>\n",
       ".list-inline {list-style: none; margin:0; padding: 0}\n",
       ".list-inline>li {display: inline-block}\n",
       ".list-inline>li:not(:last-child)::after {content: \"\\00b7\"; padding: 0 .5ex}\n",
       "</style>\n",
       "<ol class=list-inline><li>0</li><li>1</li><li>2</li></ol>\n"
      ],
      "text/latex": [
       "\\begin{enumerate*}\n",
       "\\item 0\n",
       "\\item 1\n",
       "\\item 2\n",
       "\\end{enumerate*}\n"
      ],
      "text/markdown": [
       "1. 0\n",
       "2. 1\n",
       "3. 2\n",
       "\n",
       "\n"
      ],
      "text/plain": [
       "[1] 0 1 2"
      ]
     },
     "metadata": {},
     "output_type": "display_data"
    }
   ],
   "source": [
    "list_a <- c(0, 1, 2)\n",
    "list_a"
   ]
  },
  {
   "cell_type": "code",
   "execution_count": 32,
   "id": "3080e113-1af9-468c-b27b-98b4d753491f",
   "metadata": {},
   "outputs": [
    {
     "data": {
      "text/html": [
       "<style>\n",
       ".list-inline {list-style: none; margin:0; padding: 0}\n",
       ".list-inline>li {display: inline-block}\n",
       ".list-inline>li:not(:last-child)::after {content: \"\\00b7\"; padding: 0 .5ex}\n",
       "</style>\n",
       "<ol class=list-inline><li>0</li><li>1</li><li>2</li><li>3</li><li>4</li><li>5</li><li>6</li></ol>\n"
      ],
      "text/latex": [
       "\\begin{enumerate*}\n",
       "\\item 0\n",
       "\\item 1\n",
       "\\item 2\n",
       "\\item 3\n",
       "\\item 4\n",
       "\\item 5\n",
       "\\item 6\n",
       "\\end{enumerate*}\n"
      ],
      "text/markdown": [
       "1. 0\n",
       "2. 1\n",
       "3. 2\n",
       "4. 3\n",
       "5. 4\n",
       "6. 5\n",
       "7. 6\n",
       "\n",
       "\n"
      ],
      "text/plain": [
       "[1] 0 1 2 3 4 5 6"
      ]
     },
     "metadata": {},
     "output_type": "display_data"
    }
   ],
   "source": [
    "# It's inclusive start till end, unlike Python which leaves the last out\n",
    "list_b <- c(0:6)\n",
    "list_b"
   ]
  },
  {
   "cell_type": "code",
   "execution_count": 33,
   "id": "08c142f5-6516-44a4-95df-7fadcd1a3817",
   "metadata": {},
   "outputs": [
    {
     "data": {
      "text/html": [
       "<dl>\n",
       "\t<dt>$john_height</dt>\n",
       "\t\t<dd>120</dd>\n",
       "\t<dt>$doe_height</dt>\n",
       "\t\t<dd>150</dd>\n",
       "</dl>\n"
      ],
      "text/latex": [
       "\\begin{description}\n",
       "\\item[\\$john\\_height] 120\n",
       "\\item[\\$doe\\_height] 150\n",
       "\\end{description}\n"
      ],
      "text/markdown": [
       "$john_height\n",
       ":   120\n",
       "$doe_height\n",
       ":   150\n",
       "\n",
       "\n"
      ],
      "text/plain": [
       "$john_height\n",
       "[1] 120\n",
       "\n",
       "$doe_height\n",
       "[1] 150\n"
      ]
     },
     "metadata": {},
     "output_type": "display_data"
    }
   ],
   "source": [
    "# Similar to a Python dictionary\n",
    "list_c <- list(john_height=120, doe_height=150)\n",
    "list_c"
   ]
  },
  {
   "cell_type": "code",
   "execution_count": 34,
   "id": "e506c039-6820-4b82-abac-ae5f3e8e2dbf",
   "metadata": {},
   "outputs": [
    {
     "data": {
      "text/html": [
       "<style>\n",
       ".list-inline {list-style: none; margin:0; padding: 0}\n",
       ".list-inline>li {display: inline-block}\n",
       ".list-inline>li:not(:last-child)::after {content: \"\\00b7\"; padding: 0 .5ex}\n",
       "</style>\n",
       "<ol class=list-inline><li>'john_height'</li><li>'doe_height'</li></ol>\n"
      ],
      "text/latex": [
       "\\begin{enumerate*}\n",
       "\\item 'john\\_height'\n",
       "\\item 'doe\\_height'\n",
       "\\end{enumerate*}\n"
      ],
      "text/markdown": [
       "1. 'john_height'\n",
       "2. 'doe_height'\n",
       "\n",
       "\n"
      ],
      "text/plain": [
       "[1] \"john_height\" \"doe_height\" "
      ]
     },
     "metadata": {},
     "output_type": "display_data"
    }
   ],
   "source": [
    "# Get keys only via names()\n",
    "names(list_c)"
   ]
  },
  {
   "cell_type": "code",
   "execution_count": 37,
   "id": "d5e3419d-6387-44be-965b-8eec6b0ca4e4",
   "metadata": {},
   "outputs": [
    {
     "data": {
      "text/html": [
       "<ol>\n",
       "\t<li>120</li>\n",
       "\t<li>150</li>\n",
       "</ol>\n"
      ],
      "text/latex": [
       "\\begin{enumerate}\n",
       "\\item 120\n",
       "\\item 150\n",
       "\\end{enumerate}\n"
      ],
      "text/markdown": [
       "1. 120\n",
       "2. 150\n",
       "\n",
       "\n"
      ],
      "text/plain": [
       "[[1]]\n",
       "[1] 120\n",
       "\n",
       "[[2]]\n",
       "[1] 150\n"
      ]
     },
     "metadata": {},
     "output_type": "display_data"
    }
   ],
   "source": [
    "# Get values only via uname()\n",
    "unname(list_c)"
   ]
  },
  {
   "cell_type": "markdown",
   "id": "5d033829-d5b6-431c-b9d7-c3add07ce253",
   "metadata": {},
   "source": [
    "### For Loop"
   ]
  },
  {
   "cell_type": "code",
   "execution_count": 40,
   "id": "b9cea946-6281-4c9a-b10e-0cab2bf22b86",
   "metadata": {},
   "outputs": [
    {
     "name": "stdout",
     "output_type": "stream",
     "text": [
      "[1] 0\n",
      "[1] 1\n",
      "[1] 2\n",
      "[1] 3\n"
     ]
    }
   ],
   "source": [
    "for (i in c(0:3)) {\n",
    "    print(i)\n",
    "}"
   ]
  },
  {
   "cell_type": "markdown",
   "id": "000b4466-3fc4-493a-9e9f-afae464407b1",
   "metadata": {},
   "source": [
    "### While Loop"
   ]
  },
  {
   "cell_type": "code",
   "execution_count": 48,
   "id": "dc55ed0e-321a-487a-89ac-0f965641ae57",
   "metadata": {},
   "outputs": [
    {
     "name": "stdout",
     "output_type": "stream",
     "text": [
      "[1] \"Yet to reach 3, i is:  0\"\n",
      "[1] \"Yet to reach 3, i is:  1\"\n",
      "[1] \"Yet to reach 3, i is:  2\"\n",
      "[1] \"Reached 3!\"\n"
     ]
    }
   ],
   "source": [
    "# Be careful, you might end up in an infinite loop\n",
    "# if say i = -1\n",
    "i <- 0\n",
    "while (i < 3) {\n",
    "    stdout_str = paste('Yet to reach 3, i is: ', i)\n",
    "    print(stdout_str)\n",
    "    i <- i + 1\n",
    "}\n",
    "\n",
    "print('Reached 3!')"
   ]
  },
  {
   "cell_type": "code",
   "execution_count": null,
   "id": "233e7bdc-238b-49f2-859b-a303477185b5",
   "metadata": {},
   "outputs": [],
   "source": []
  }
 ],
 "metadata": {
  "kernelspec": {
   "display_name": "R",
   "language": "R",
   "name": "ir"
  },
  "language_info": {
   "codemirror_mode": "r",
   "file_extension": ".r",
   "mimetype": "text/x-r-source",
   "name": "R",
   "pygments_lexer": "r",
   "version": "4.1.1"
  }
 },
 "nbformat": 4,
 "nbformat_minor": 5
}
