{
 "cells": [
  {
   "cell_type": "markdown",
   "metadata": {
    "id": "0Ms5XU6GuMAx"
   },
   "source": [
    "# RAPIDS cuDF"
   ]
  },
  {
   "cell_type": "markdown",
   "metadata": {
    "id": "b_CwupkkXa3L"
   },
   "source": [
    "[![Open In Colab](https://colab.research.google.com/assets/colab-badge.svg)](https://colab.research.google.com/github/ritchieng/deep-learning-wizard/blob/master/docs/machine_learning/gpu/rapids_cudf.ipynb)"
   ]
  },
  {
   "cell_type": "markdown",
   "metadata": {
    "id": "FkC1RqNMYvwd"
   },
   "source": [
    "## Environment Setup"
   ]
  },
  {
   "cell_type": "markdown",
   "metadata": {
    "id": "SCWF5rlsuvbj"
   },
   "source": [
    "### Check Version"
   ]
  },
  {
   "cell_type": "markdown",
   "metadata": {
    "id": "tmiXIuf4Y4LR"
   },
   "source": [
    "#### Python Version"
   ]
  },
  {
   "cell_type": "code",
   "execution_count": 1,
   "metadata": {
    "colab": {
     "base_uri": "https://localhost:8080/"
    },
    "id": "jtg8EVlRuxj7",
    "outputId": "2cabdca3-ae02-441f-d118-d7b24f1a19e3"
   },
   "outputs": [
    {
     "name": "stdout",
     "output_type": "stream",
     "text": [
      "Python 3.8.16\n"
     ]
    }
   ],
   "source": [
    "# Check Python Version\n",
    "!python --version"
   ]
  },
  {
   "cell_type": "markdown",
   "metadata": {
    "id": "EsDqrSm5Y6qM"
   },
   "source": [
    "#### Ubuntu Version"
   ]
  },
  {
   "cell_type": "code",
   "execution_count": 2,
   "metadata": {
    "colab": {
     "base_uri": "https://localhost:8080/"
    },
    "id": "UYWxl68Quyv7",
    "outputId": "bbc9908c-e5b3-4255-a91b-7ef71483661f"
   },
   "outputs": [
    {
     "name": "stdout",
     "output_type": "stream",
     "text": [
      "No LSB modules are available.\n",
      "Distributor ID:\tUbuntu\n",
      "Description:\tUbuntu 18.04.6 LTS\n",
      "Release:\t18.04\n",
      "Codename:\tbionic\n"
     ]
    }
   ],
   "source": [
    "# Check Ubuntu Version\n",
    "!lsb_release -a"
   ]
  },
  {
   "cell_type": "markdown",
   "metadata": {
    "id": "H2WPSwsMY_XE"
   },
   "source": [
    "#### Check CUDA Version"
   ]
  },
  {
   "cell_type": "code",
   "execution_count": 3,
   "metadata": {
    "colab": {
     "base_uri": "https://localhost:8080/"
    },
    "id": "eGAqqUlOuyXF",
    "outputId": "7ef9325e-2df1-4830-9e19-83381f8601aa"
   },
   "outputs": [
    {
     "name": "stdout",
     "output_type": "stream",
     "text": [
      "nvcc: NVIDIA (R) Cuda compiler driver\n",
      "Copyright (c) 2005-2021 NVIDIA Corporation\n",
      "Built on Sun_Feb_14_21:12:58_PST_2021\n",
      "Cuda compilation tools, release 11.2, V11.2.152\n",
      "Build cuda_11.2.r11.2/compiler.29618528_0\n",
      "/usr/local/cuda/bin/nvcc\n"
     ]
    }
   ],
   "source": [
    "# Check CUDA/cuDNN Version\n",
    "!nvcc -V && which nvcc"
   ]
  },
  {
   "cell_type": "markdown",
   "metadata": {
    "id": "QCr_TZjqZDve"
   },
   "source": [
    "#### Check GPU Version"
   ]
  },
  {
   "cell_type": "code",
   "execution_count": 4,
   "metadata": {
    "colab": {
     "base_uri": "https://localhost:8080/"
    },
    "id": "nAj-Ie3nv-aM",
    "outputId": "f6777d9b-ddeb-4784-f584-467644563d62"
   },
   "outputs": [
    {
     "name": "stdout",
     "output_type": "stream",
     "text": [
      "Tue Jan  3 04:41:06 2023       \n",
      "+-----------------------------------------------------------------------------+\n",
      "| NVIDIA-SMI 460.32.03    Driver Version: 460.32.03    CUDA Version: 11.2     |\n",
      "|-------------------------------+----------------------+----------------------+\n",
      "| GPU  Name        Persistence-M| Bus-Id        Disp.A | Volatile Uncorr. ECC |\n",
      "| Fan  Temp  Perf  Pwr:Usage/Cap|         Memory-Usage | GPU-Util  Compute M. |\n",
      "|                               |                      |               MIG M. |\n",
      "|===============================+======================+======================|\n",
      "|   0  Tesla T4            Off  | 00000000:00:04.0 Off |                    0 |\n",
      "| N/A   59C    P0    27W /  70W |      0MiB / 15109MiB |      0%      Default |\n",
      "|                               |                      |                  N/A |\n",
      "+-------------------------------+----------------------+----------------------+\n",
      "                                                                               \n",
      "+-----------------------------------------------------------------------------+\n",
      "| Processes:                                                                  |\n",
      "|  GPU   GI   CI        PID   Type   Process name                  GPU Memory |\n",
      "|        ID   ID                                                   Usage      |\n",
      "|=============================================================================|\n",
      "|  No running processes found                                                 |\n",
      "+-----------------------------------------------------------------------------+\n"
     ]
    }
   ],
   "source": [
    "# Check GPU\n",
    "!nvidia-smi"
   ]
  },
  {
   "cell_type": "markdown",
   "metadata": {
    "id": "6OyjkVky6viJ"
   },
   "source": [
    "#### Setup:\n",
    "Set up script installs\n",
    "- Updates gcc in Colab\n",
    "- Installs Conda\n",
    "- Install RAPIDS' current stable version of its libraries, as well as some external libraries including:\n",
    "    - cuDF\n",
    "    - cuML\n",
    "    - cuGraph\n",
    "    - cuSpatial\n",
    "    - cuSignal\n",
    "    - BlazingSQL\n",
    "    - xgboost\n",
    "- Copy RAPIDS .so files into current working directory, a neccessary workaround for RAPIDS+Colab integration.\n"
   ]
  },
  {
   "cell_type": "code",
   "execution_count": 5,
   "metadata": {
    "colab": {
     "base_uri": "https://localhost:8080/"
    },
    "id": "94Fdr-lt6wGv",
    "outputId": "3cae9d83-2e41-42e5-9966-e905c0f22f51"
   },
   "outputs": [
    {
     "name": "stdout",
     "output_type": "stream",
     "text": [
      "Cloning into 'rapidsai-csp-utils'...\n",
      "remote: Enumerating objects: 328, done.\u001b[K\n",
      "remote: Counting objects: 100% (157/157), done.\u001b[K\n",
      "remote: Compressing objects: 100% (102/102), done.\u001b[K\n",
      "remote: Total 328 (delta 92), reused 98 (delta 55), pack-reused 171\u001b[K\n",
      "Receiving objects: 100% (328/328), 94.64 KiB | 3.05 MiB/s, done.\n",
      "Resolving deltas: 100% (154/154), done.\n",
      "Looking in indexes: https://pypi.org/simple, https://us-python.pkg.dev/colab-wheels/public/simple/\n",
      "Collecting pynvml\n",
      "  Downloading pynvml-11.4.1-py3-none-any.whl (46 kB)\n",
      "Installing collected packages: pynvml\n",
      "Successfully installed pynvml-11.4.1\n",
      "***********************************************************************\n",
      "Woo! Your instance has the right kind of GPU, a Tesla T4!\n",
      "We will now install RAPIDS via pip!  Please stand by, should be quick...\n",
      "***********************************************************************\n",
      "\n"
     ]
    }
   ],
   "source": [
    "# This get the RAPIDS-Colab install files and test check your GPU.  Run this and the next cell only.\n",
    "# Please read the output of this cell.  If your Colab Instance is not RAPIDS compatible, it will warn you and give you remediation steps.\n",
    "!git clone https://github.com/rapidsai/rapidsai-csp-utils.git\n",
    "!python rapidsai-csp-utils/colab/env-check.py"
   ]
  },
  {
   "cell_type": "code",
   "execution_count": null,
   "metadata": {
    "colab": {
     "base_uri": "https://localhost:8080/"
    },
    "id": "j5qCpLVo7mdy",
    "outputId": "e762e0bf-74c6-4ecd-e62e-a78c823002f7"
   },
   "outputs": [
    {
     "name": "stdout",
     "output_type": "stream",
     "text": [
      "Updating your Colab environment.  This will restart your kernel.  Don't Panic!\n",
      "Get:1 https://cloud.r-project.org/bin/linux/ubuntu bionic-cran40/ InRelease [3,626 B]\n",
      "Get:2 http://ppa.launchpad.net/c2d4u.team/c2d4u4.0+/ubuntu bionic InRelease [15.9 kB]\n",
      "Get:3 http://security.ubuntu.com/ubuntu bionic-security InRelease [88.7 kB]\n",
      "Hit:4 http://archive.ubuntu.com/ubuntu bionic InRelease\n",
      "Get:5 http://archive.ubuntu.com/ubuntu bionic-updates InRelease [88.7 kB]\n",
      "Hit:6 http://ppa.launchpad.net/cran/libgit2/ubuntu bionic InRelease\n",
      "Ign:7 https://developer.download.nvidia.com/compute/machine-learning/repos/ubuntu1804/x86_64  InRelease\n",
      "Hit:8 https://developer.download.nvidia.com/compute/cuda/repos/ubuntu1804/x86_64  InRelease\n",
      "Hit:9 https://developer.download.nvidia.com/compute/machine-learning/repos/ubuntu1804/x86_64  Release\n",
      "Hit:11 http://ppa.launchpad.net/deadsnakes/ppa/ubuntu bionic InRelease\n",
      "Hit:12 http://ppa.launchpad.net/graphics-drivers/ppa/ubuntu bionic InRelease\n",
      "Get:13 http://archive.ubuntu.com/ubuntu bionic-backports InRelease [83.3 kB]\n",
      "Get:14 http://ppa.launchpad.net/ubuntu-toolchain-r/test/ubuntu bionic InRelease [20.8 kB]\n",
      "Get:15 http://ppa.launchpad.net/c2d4u.team/c2d4u4.0+/ubuntu bionic/main Sources [2,237 kB]\n",
      "Get:16 http://ppa.launchpad.net/c2d4u.team/c2d4u4.0+/ubuntu bionic/main amd64 Packages [1,144 kB]\n",
      "Get:17 http://ppa.launchpad.net/ubuntu-toolchain-r/test/ubuntu bionic/main amd64 Packages [50.4 kB]\n",
      "Fetched 3,733 kB in 6s (635 kB/s)\n",
      "Reading package lists... Done\n",
      "Added repo\n",
      "Hit:1 https://cloud.r-project.org/bin/linux/ubuntu bionic-cran40/ InRelease\n",
      "Hit:2 http://security.ubuntu.com/ubuntu bionic-security InRelease\n",
      "Hit:3 http://ppa.launchpad.net/c2d4u.team/c2d4u4.0+/ubuntu bionic InRelease\n",
      "Ign:4 https://developer.download.nvidia.com/compute/machine-learning/repos/ubuntu1804/x86_64  InRelease\n",
      "Hit:5 https://developer.download.nvidia.com/compute/cuda/repos/ubuntu1804/x86_64  InRelease\n",
      "Hit:6 https://developer.download.nvidia.com/compute/machine-learning/repos/ubuntu1804/x86_64  Release\n",
      "Hit:7 http://archive.ubuntu.com/ubuntu bionic InRelease\n",
      "Hit:9 http://archive.ubuntu.com/ubuntu bionic-updates InRelease\n",
      "Hit:10 http://ppa.launchpad.net/cran/libgit2/ubuntu bionic InRelease\n",
      "Hit:11 http://archive.ubuntu.com/ubuntu bionic-backports InRelease\n",
      "Hit:12 http://ppa.launchpad.net/deadsnakes/ppa/ubuntu bionic InRelease\n",
      "Hit:13 http://ppa.launchpad.net/graphics-drivers/ppa/ubuntu bionic InRelease\n",
      "Hit:14 http://ppa.launchpad.net/ubuntu-toolchain-r/test/ubuntu bionic InRelease\n",
      "Reading package lists... Done\n",
      "Installing libstdc++\n",
      "Reading package lists... Done\n",
      "Building dependency tree       \n",
      "Reading state information... Done\n",
      "Selected version '11.1.0-1ubuntu1~18.04.1' (Toolchain test builds:18.04/bionic [amd64]) for 'libstdc++6'\n",
      "The following package was automatically installed and is no longer required:\n",
      "  libnvidia-common-460\n",
      "Use 'sudo apt autoremove' to remove it.\n",
      "The following additional packages will be installed:\n",
      "  gcc-11-base libgcc-s1\n",
      "The following NEW packages will be installed:\n",
      "  gcc-11-base libgcc-s1\n",
      "The following packages will be upgraded:\n",
      "  libstdc++6\n",
      "1 upgraded, 2 newly installed, 0 to remove and 31 not upgraded.\n",
      "Need to get 641 kB of archives.\n",
      "After this operation, 981 kB of additional disk space will be used.\n",
      "Get:1 http://ppa.launchpad.net/ubuntu-toolchain-r/test/ubuntu bionic/main amd64 gcc-11-base amd64 11.1.0-1ubuntu1~18.04.1 [19.0 kB]\n",
      "Get:2 http://ppa.launchpad.net/ubuntu-toolchain-r/test/ubuntu bionic/main amd64 libgcc-s1 amd64 11.1.0-1ubuntu1~18.04.1 [41.8 kB]\n",
      "Get:3 http://ppa.launchpad.net/ubuntu-toolchain-r/test/ubuntu bionic/main amd64 libstdc++6 amd64 11.1.0-1ubuntu1~18.04.1 [580 kB]\n",
      "Fetched 641 kB in 2s (277 kB/s)\n",
      "debconf: unable to initialize frontend: Dialog\n",
      "debconf: (No usable dialog-like program is installed, so the dialog based frontend cannot be used. at /usr/share/perl5/Debconf/FrontEnd/Dialog.pm line 76, <> line 3.)\n",
      "debconf: falling back to frontend: Readline\n",
      "debconf: unable to initialize frontend: Readline\n",
      "debconf: (This frontend requires a controlling tty.)\n",
      "debconf: falling back to frontend: Teletype\n",
      "dpkg-preconfigure: unable to re-open stdin: \n",
      "Selecting previously unselected package gcc-11-base:amd64.\n",
      "(Reading database ... 124016 files and directories currently installed.)\n",
      "Preparing to unpack .../gcc-11-base_11.1.0-1ubuntu1~18.04.1_amd64.deb ...\n",
      "Unpacking gcc-11-base:amd64 (11.1.0-1ubuntu1~18.04.1) ...\n",
      "Setting up gcc-11-base:amd64 (11.1.0-1ubuntu1~18.04.1) ...\n",
      "Selecting previously unselected package libgcc-s1:amd64.\n",
      "(Reading database ... 124021 files and directories currently installed.)\n",
      "Preparing to unpack .../libgcc-s1_11.1.0-1ubuntu1~18.04.1_amd64.deb ...\n",
      "Unpacking libgcc-s1:amd64 (11.1.0-1ubuntu1~18.04.1) ...\n",
      "Replacing files in old package libgcc1:amd64 (1:8.4.0-1ubuntu1~18.04) ...\n",
      "Setting up libgcc-s1:amd64 (11.1.0-1ubuntu1~18.04.1) ...\n",
      "(Reading database ... 124023 files and directories currently installed.)\n",
      "Preparing to unpack .../libstdc++6_11.1.0-1ubuntu1~18.04.1_amd64.deb ...\n",
      "Unpacking libstdc++6:amd64 (11.1.0-1ubuntu1~18.04.1) over (8.4.0-1ubuntu1~18.04) ...\n",
      "Setting up libstdc++6:amd64 (11.1.0-1ubuntu1~18.04.1) ...\n",
      "Processing triggers for libc-bin (2.27-3ubuntu1.6) ...\n",
      "restarting Colab...\n"
     ]
    }
   ],
   "source": [
    "# This will update the Colab environment and restart the kernel.  Don't run the next cell until you see the session crash.\n",
    "!bash rapidsai-csp-utils/colab/update_gcc.sh\n",
    "import os\n",
    "os._exit(00)"
   ]
  },
  {
   "cell_type": "code",
   "execution_count": 3,
   "metadata": {
    "colab": {
     "base_uri": "https://localhost:8080/"
    },
    "id": "V8ooYs337mdy",
    "outputId": "474064d8-a65a-44fd-a542-b42d04216d74"
   },
   "outputs": [
    {
     "name": "stdout",
     "output_type": "stream",
     "text": [
      "⏬ Downloading https://github.com/jaimergp/miniforge/releases/latest/download/Mambaforge-colab-Linux-x86_64.sh...\n",
      "📦 Installing...\n",
      "📌 Adjusting configuration...\n",
      "🩹 Patching environment...\n",
      "⏲ Done in 0:00:14\n",
      "🔁 Restarting kernel...\n"
     ]
    }
   ],
   "source": [
    "# This will install CondaColab.  This will restart your kernel one last time.  Run this cell by itself and only run the next cell once you see the session crash.\n",
    "import condacolab\n",
    "condacolab.install()"
   ]
  },
  {
   "cell_type": "code",
   "execution_count": 2,
   "metadata": {
    "colab": {
     "base_uri": "https://localhost:8080/"
    },
    "id": "hIKilrX77mdz",
    "outputId": "a80badd4-c189-4b36-f4c5-0d2ec7772e8b"
   },
   "outputs": [
    {
     "name": "stdout",
     "output_type": "stream",
     "text": [
      "✨🍰✨ Everything looks OK!\n"
     ]
    }
   ],
   "source": [
    "# you can now run the rest of the cells as normal\n",
    "import condacolab\n",
    "condacolab.check()"
   ]
  },
  {
   "cell_type": "markdown",
   "metadata": {
    "id": "19gRLN_8uvEh",
    "tags": []
   },
   "source": [
    "### Installation of RAPIDS (including cuDF/cuML)\n",
    "Many thanks to NVIDIA team for this snippet of code to automatically set up everything."
   ]
  },
  {
   "cell_type": "code",
   "execution_count": null,
   "metadata": {
    "colab": {
     "base_uri": "https://localhost:8080/"
    },
    "id": "W1eteT6T7mdz",
    "outputId": "8cc12e92-1300-4f18-d3a0-27c2cdc512eb"
   },
   "outputs": [],
   "source": [
    "# Installing RAPIDS is now 'python rapidsai-csp-utils/colab/install_rapids.py <release> <packages>'\n",
    "# The <release> options are 'stable' and 'nightly'.  Leaving it blank or adding any other words will default to stable.\n",
    "# The <packages> option are default blank or 'core'.  By default, we install RAPIDSAI and BlazingSQL.  The 'core' option will install only RAPIDSAI and not include BlazingSQL, \n",
    "!python rapidsai-csp-utils/colab/install_rapids.py stable\n",
    "import os\n",
    "os.environ['NUMBAPRO_NVVM'] = '/usr/local/cuda/nvvm/lib64/libnvvm.so'\n",
    "os.environ['NUMBAPRO_LIBDEVICE'] = '/usr/local/cuda/nvvm/libdevice/'\n",
    "os.environ['CONDA_PREFIX'] = '/usr/local'"
   ]
  },
  {
   "cell_type": "markdown",
   "metadata": {
    "id": "fweFyNRw00So"
   },
   "source": [
    "## Critical Imports"
   ]
  },
  {
   "cell_type": "code",
   "execution_count": 5,
   "metadata": {
    "colab": {
     "base_uri": "https://localhost:8080/"
    },
    "collapsed": true,
    "id": "hUagBPMOuMAy",
    "jupyter": {
     "outputs_hidden": true
    },
    "outputId": "41207efe-98c3-4ed2-f65d-22c5c566ed10"
   },
   "outputs": [
    {
     "name": "stderr",
     "output_type": "stream",
     "text": [
      "/usr/local/lib/python3.8/site-packages/cupy/_environment.py:439: UserWarning: \n",
      "--------------------------------------------------------------------------------\n",
      "\n",
      "  CuPy may not function correctly because multiple CuPy packages are installed\n",
      "  in your environment:\n",
      "\n",
      "    cupy, cupy-cuda11x\n",
      "\n",
      "  Follow these steps to resolve this issue:\n",
      "\n",
      "    1. For all packages listed above, run the following command to remove all\n",
      "       existing CuPy installations:\n",
      "\n",
      "         $ pip uninstall <package_name>\n",
      "\n",
      "      If you previously installed CuPy via conda, also run the following:\n",
      "\n",
      "         $ conda uninstall cupy\n",
      "\n",
      "    2. Install the appropriate CuPy package.\n",
      "       Refer to the Installation Guide for detailed instructions.\n",
      "\n",
      "         https://docs.cupy.dev/en/stable/install.html\n",
      "\n",
      "--------------------------------------------------------------------------------\n",
      "\n",
      "  warnings.warn(f'''\n"
     ]
    }
   ],
   "source": [
    "# Critical imports\n",
    "#import nvstrings, nvcategory, cudf\n",
    "import cudf\n",
    "import cuml\n",
    "import os\n",
    "import numpy as np\n",
    "import pandas as pd"
   ]
  },
  {
   "cell_type": "markdown",
   "metadata": {
    "id": "744SJmhKZVxM"
   },
   "source": [
    "## Creating"
   ]
  },
  {
   "cell_type": "markdown",
   "metadata": {
    "id": "3JnrTcYak4o9"
   },
   "source": [
    "### Create a Series of integers"
   ]
  },
  {
   "cell_type": "code",
   "execution_count": 6,
   "metadata": {
    "colab": {
     "base_uri": "https://localhost:8080/"
    },
    "id": "47BX3RCquMA3",
    "outputId": "ab912a98-a451-49d5-e383-628d28b09add"
   },
   "outputs": [
    {
     "name": "stdout",
     "output_type": "stream",
     "text": [
      "0    1\n",
      "1    2\n",
      "2    3\n",
      "3    4\n",
      "4    5\n",
      "5    6\n",
      "dtype: int64\n",
      "<class 'cudf.core.series.Series'>\n"
     ]
    }
   ],
   "source": [
    "gdf = cudf.Series([1, 2, 3, 4, 5, 6])\n",
    "print(gdf)\n",
    "print(type(gdf))"
   ]
  },
  {
   "cell_type": "markdown",
   "metadata": {
    "id": "Z1ALZGBiuMBD"
   },
   "source": [
    "### Create a Series of floats"
   ]
  },
  {
   "cell_type": "code",
   "execution_count": 7,
   "metadata": {
    "colab": {
     "base_uri": "https://localhost:8080/"
    },
    "id": "XzyOT3TwuMBD",
    "outputId": "94a505b1-2569-4599-e69b-189a107392e5"
   },
   "outputs": [
    {
     "name": "stdout",
     "output_type": "stream",
     "text": [
      "0    1.0\n",
      "1    2.0\n",
      "2    3.0\n",
      "3    4.0\n",
      "4    5.0\n",
      "5    6.0\n",
      "dtype: float64\n"
     ]
    }
   ],
   "source": [
    "gdf = cudf.Series([1., 2., 3., 4., 5., 6.])\n",
    "print(gdf)"
   ]
  },
  {
   "cell_type": "markdown",
   "metadata": {
    "id": "vR8N2cvZlZ2L"
   },
   "source": [
    "### Create a  Series of strings\n"
   ]
  },
  {
   "cell_type": "code",
   "execution_count": 8,
   "metadata": {
    "colab": {
     "base_uri": "https://localhost:8080/"
    },
    "id": "q7bUCSAYla2j",
    "outputId": "8d487e34-952a-475c-a694-a0c84a07ad2c"
   },
   "outputs": [
    {
     "name": "stdout",
     "output_type": "stream",
     "text": [
      "0    a\n",
      "1    b\n",
      "2    c\n",
      "dtype: object\n"
     ]
    }
   ],
   "source": [
    "gdf = cudf.Series(['a', 'b', 'c'])\n",
    "print(gdf)"
   ]
  },
  {
   "cell_type": "markdown",
   "metadata": {
    "id": "XIdFWUHguMBK"
   },
   "source": [
    "### Create 3 column DataFrame\n",
    "- Consisting of dates, integers and floats"
   ]
  },
  {
   "cell_type": "code",
   "execution_count": 14,
   "metadata": {
    "colab": {
     "base_uri": "https://localhost:8080/"
    },
    "id": "kc3C2VDJH3l0",
    "outputId": "b0051316-e265-4361-99b1-2e2f4602e362"
   },
   "outputs": [
    {
     "name": "stdout",
     "output_type": "stream",
     "text": [
      "       dates  integers  floats\n",
      "0 2019-01-01         0     0.0\n",
      "1 2019-01-02         1     1.0\n",
      "2 2019-01-03         2     2.0\n",
      "3 2019-01-04         3     3.0\n",
      "4 2019-01-07         4     4.0\n",
      "5 2019-01-08         5     5.0\n",
      "6 2019-01-09         6     6.0\n",
      "7 2019-01-10         7     7.0\n",
      "8 2019-01-11         8     8.0\n",
      "9 2019-01-14         9     9.0\n"
     ]
    }
   ],
   "source": [
    "# Import\n",
    "import datetime as dt\n",
    "\n",
    "# Using a dictionary of key-value pairs\n",
    "# Each key in the dictionary represents a category\n",
    "# The key is the category's name\n",
    "# The value is a list of the values in that category\n",
    "gdf = cudf.DataFrame({\n",
    "    # Create 10 busindates ess from 1st January 2019 via pandas\n",
    "    'dates': pd.date_range('1/1/2019', periods=10, freq='B'),\n",
    "    # Integers\n",
    "    'integers': [i for i in range(10)],\n",
    "    # Floats\n",
    "    'floats': [float(i) for i in range(10)]\n",
    "})\n",
    "\n",
    "# Print dataframe\n",
    "print(gdf)"
   ]
  },
  {
   "cell_type": "markdown",
   "metadata": {
    "id": "QZ0vAkRMuMBq"
   },
   "source": [
    "### Create 2 column Dataframe\n",
    "- Consisting of integers and string category"
   ]
  },
  {
   "cell_type": "code",
   "execution_count": 16,
   "metadata": {
    "colab": {
     "base_uri": "https://localhost:8080/"
    },
    "id": "r0ekcLUUkRhp",
    "outputId": "6373ed1f-48fb-4d1a-88ff-1ef83ba04174"
   },
   "outputs": [
    {
     "name": "stdout",
     "output_type": "stream",
     "text": [
      "   integers string\n",
      "0         1      a\n",
      "1         2      b\n",
      "2         3      c\n",
      "3         4      d\n"
     ]
    }
   ],
   "source": [
    "# Using a dictionary\n",
    "# Each key in the dictionary represents a category\n",
    "# The key is the category's name\n",
    "# The value is a list of the values in that category\n",
    "gdf = cudf.DataFrame({\n",
    "    'integers': [1 ,2, 3, 4],\n",
    "    'string': ['a', 'b', 'c', 'd']\n",
    "})\n",
    "\n",
    "print(gdf)"
   ]
  },
  {
   "cell_type": "markdown",
   "metadata": {
    "id": "cYur43-mkSFt"
   },
   "source": [
    "### Create a 2 Column  Dataframe with Pandas Bridge\n",
    "- Consisting of integers and string category\n",
    "- For all string columns, you must convert them to type `category` for filtering functions to work intuitively (for now)"
   ]
  },
  {
   "cell_type": "code",
   "execution_count": 17,
   "metadata": {
    "colab": {
     "base_uri": "https://localhost:8080/"
    },
    "id": "NfazAxmeuMBr",
    "outputId": "80d811e8-0231-4fe4-f529-47de0c2df4ee"
   },
   "outputs": [
    {
     "name": "stdout",
     "output_type": "stream",
     "text": [
      "   integers strings\n",
      "0         1       a\n",
      "1         2       b\n",
      "2         3       c\n",
      "3         4       d\n"
     ]
    }
   ],
   "source": [
    "# Create pandas dataframe\n",
    "pandas_df = pd.DataFrame({\n",
    "    'integers': [1, 2, 3, 4], \n",
    "    'strings': ['a', 'b', 'c', 'd']\n",
    "})\n",
    "\n",
    "# Convert string column to category format\n",
    "pandas_df['strings'] = pandas_df['strings'].astype('category')\n",
    "\n",
    "# Bridge from pandas to cudf\n",
    "gdf = cudf.DataFrame.from_pandas(pandas_df)\n",
    "\n",
    "# Print dataframe\n",
    "print(gdf)"
   ]
  },
  {
   "cell_type": "markdown",
   "metadata": {
    "id": "RztyNiUgsZam"
   },
   "source": [
    "## Viewing"
   ]
  },
  {
   "cell_type": "markdown",
   "metadata": {
    "id": "jhcu9eJeuMBv"
   },
   "source": [
    "### Printing Column Names"
   ]
  },
  {
   "cell_type": "code",
   "execution_count": 18,
   "metadata": {
    "colab": {
     "base_uri": "https://localhost:8080/"
    },
    "id": "hyFl4bVIuMBw",
    "outputId": "f9b220dd-b71d-435f-9b28-63e88a6f12bd"
   },
   "outputs": [
    {
     "data": {
      "text/plain": [
       "Index(['integers', 'strings'], dtype='object')"
      ]
     },
     "execution_count": 18,
     "metadata": {},
     "output_type": "execute_result"
    }
   ],
   "source": [
    "gdf.columns"
   ]
  },
  {
   "cell_type": "markdown",
   "metadata": {
    "id": "M0Bsluijsdff"
   },
   "source": [
    "### Viewing Top of DataFrame"
   ]
  },
  {
   "cell_type": "code",
   "execution_count": 19,
   "metadata": {
    "colab": {
     "base_uri": "https://localhost:8080/"
    },
    "id": "PqSR0UF7shPR",
    "outputId": "d2e1436c-1197-4e79-b741-891077fb38ac"
   },
   "outputs": [
    {
     "name": "stdout",
     "output_type": "stream",
     "text": [
      "   integers strings\n",
      "0         1       a\n",
      "1         2       b\n"
     ]
    }
   ],
   "source": [
    "num_of_rows_to_view = 2 \n",
    "print(gdf.head(num_of_rows_to_view))"
   ]
  },
  {
   "cell_type": "markdown",
   "metadata": {
    "id": "Z8xtzd4nshhs"
   },
   "source": [
    "### Viewing Bottom of DataFrame"
   ]
  },
  {
   "cell_type": "code",
   "execution_count": 20,
   "metadata": {
    "colab": {
     "base_uri": "https://localhost:8080/"
    },
    "id": "_ILChz7MshrR",
    "outputId": "30014a01-fa88-4f59-816d-04feb10d5289"
   },
   "outputs": [
    {
     "name": "stdout",
     "output_type": "stream",
     "text": [
      "   integers strings\n",
      "1         2       b\n",
      "2         3       c\n",
      "3         4       d\n"
     ]
    }
   ],
   "source": [
    "num_of_rows_to_view = 3 \n",
    "print(gdf.tail(num_of_rows_to_view))"
   ]
  },
  {
   "cell_type": "markdown",
   "metadata": {
    "id": "0MroNULxs1Gd"
   },
   "source": [
    "## Filtering"
   ]
  },
  {
   "cell_type": "markdown",
   "metadata": {
    "id": "0thpCjlItLTh"
   },
   "source": [
    "### Method 1: Query"
   ]
  },
  {
   "cell_type": "markdown",
   "metadata": {
    "id": "3GvIGth-K_ng"
   },
   "source": [
    "#### Filtering Integers/Floats by Column Values\n",
    "- This only works for floats and integers, not for strings"
   ]
  },
  {
   "cell_type": "code",
   "execution_count": null,
   "metadata": {
    "colab": {
     "base_uri": "https://localhost:8080/",
     "height": 433
    },
    "id": "y6PBAQasLYfi",
    "outputId": "487ffd8b-2776-4c73-f0be-8bf15abaf5fb"
   },
   "outputs": [],
   "source": [
    "# DO NOT RUN\n",
    "# TOFIX: `cffi` package version mismatch error\n",
    "print(gdf.query('integers == 1'))"
   ]
  },
  {
   "cell_type": "markdown",
   "metadata": {
    "id": "YZx6HN1AL3BD"
   },
   "source": [
    "#### Filtering Strings by Column Values\n",
    "- This only works for floats and integers, not for strings so this will return an error!"
   ]
  },
  {
   "cell_type": "code",
   "execution_count": 22,
   "metadata": {
    "colab": {
     "base_uri": "https://localhost:8080/",
     "height": 451
    },
    "id": "QEtFUprCMCBB",
    "outputId": "b5c0d867-ee1a-48e7-bd65-3e8752299cbe"
   },
   "outputs": [
    {
     "ename": "KeyError",
     "evalue": "ignored",
     "output_type": "error",
     "traceback": [
      "\u001b[0;31m---------------------------------------------------------------------------\u001b[0m",
      "\u001b[0;31mKeyError\u001b[0m                                  Traceback (most recent call last)",
      "\u001b[0;32m/usr/local/lib/python3.8/site-packages/cudf/core/dataframe.py\u001b[0m in \u001b[0;36mextract_col\u001b[0;34m(df, col)\u001b[0m\n\u001b[1;32m   7558\u001b[0m     \u001b[0;32mtry\u001b[0m\u001b[0;34m:\u001b[0m\u001b[0;34m\u001b[0m\u001b[0;34m\u001b[0m\u001b[0m\n\u001b[0;32m-> 7559\u001b[0;31m         \u001b[0;32mreturn\u001b[0m \u001b[0mdf\u001b[0m\u001b[0;34m.\u001b[0m\u001b[0m_data\u001b[0m\u001b[0;34m[\u001b[0m\u001b[0mcol\u001b[0m\u001b[0;34m]\u001b[0m\u001b[0;34m\u001b[0m\u001b[0;34m\u001b[0m\u001b[0m\n\u001b[0m\u001b[1;32m   7560\u001b[0m     \u001b[0;32mexcept\u001b[0m \u001b[0mKeyError\u001b[0m\u001b[0;34m:\u001b[0m\u001b[0;34m\u001b[0m\u001b[0;34m\u001b[0m\u001b[0m\n",
      "\u001b[0;32m/usr/local/lib/python3.8/site-packages/cudf/core/column_accessor.py\u001b[0m in \u001b[0;36m__getitem__\u001b[0;34m(self, key)\u001b[0m\n\u001b[1;32m    154\u001b[0m     \u001b[0;32mdef\u001b[0m \u001b[0m__getitem__\u001b[0m\u001b[0;34m(\u001b[0m\u001b[0mself\u001b[0m\u001b[0;34m,\u001b[0m \u001b[0mkey\u001b[0m\u001b[0;34m:\u001b[0m \u001b[0mAny\u001b[0m\u001b[0;34m)\u001b[0m \u001b[0;34m->\u001b[0m \u001b[0mColumnBase\u001b[0m\u001b[0;34m:\u001b[0m\u001b[0;34m\u001b[0m\u001b[0;34m\u001b[0m\u001b[0m\n\u001b[0;32m--> 155\u001b[0;31m         \u001b[0;32mreturn\u001b[0m \u001b[0mself\u001b[0m\u001b[0;34m.\u001b[0m\u001b[0m_data\u001b[0m\u001b[0;34m[\u001b[0m\u001b[0mkey\u001b[0m\u001b[0;34m]\u001b[0m\u001b[0;34m\u001b[0m\u001b[0;34m\u001b[0m\u001b[0m\n\u001b[0m\u001b[1;32m    156\u001b[0m \u001b[0;34m\u001b[0m\u001b[0m\n",
      "\u001b[0;31mKeyError\u001b[0m: 'a'",
      "\nDuring handling of the above exception, another exception occurred:\n",
      "\u001b[0;31mKeyError\u001b[0m                                  Traceback (most recent call last)",
      "\u001b[0;32m<ipython-input-22-5cfd0345d51c>\u001b[0m in \u001b[0;36m<module>\u001b[0;34m\u001b[0m\n\u001b[0;32m----> 1\u001b[0;31m \u001b[0mprint\u001b[0m\u001b[0;34m(\u001b[0m\u001b[0mgdf\u001b[0m\u001b[0;34m.\u001b[0m\u001b[0mquery\u001b[0m\u001b[0;34m(\u001b[0m\u001b[0;34m'strings == a'\u001b[0m\u001b[0;34m)\u001b[0m\u001b[0;34m)\u001b[0m\u001b[0;34m\u001b[0m\u001b[0;34m\u001b[0m\u001b[0m\n\u001b[0m",
      "\u001b[0;32m/usr/local/lib/python3.8/site-packages/cudf/core/dataframe.py\u001b[0m in \u001b[0;36mquery\u001b[0;34m(self, expr, local_dict)\u001b[0m\n\u001b[1;32m   4172\u001b[0m             }\n\u001b[1;32m   4173\u001b[0m             \u001b[0;31m# Run query\u001b[0m\u001b[0;34m\u001b[0m\u001b[0;34m\u001b[0m\u001b[0;34m\u001b[0m\u001b[0m\n\u001b[0;32m-> 4174\u001b[0;31m             \u001b[0mboolmask\u001b[0m \u001b[0;34m=\u001b[0m \u001b[0mqueryutils\u001b[0m\u001b[0;34m.\u001b[0m\u001b[0mquery_execute\u001b[0m\u001b[0;34m(\u001b[0m\u001b[0mself\u001b[0m\u001b[0;34m,\u001b[0m \u001b[0mexpr\u001b[0m\u001b[0;34m,\u001b[0m \u001b[0mcallenv\u001b[0m\u001b[0;34m)\u001b[0m\u001b[0;34m\u001b[0m\u001b[0;34m\u001b[0m\u001b[0m\n\u001b[0m\u001b[1;32m   4175\u001b[0m             \u001b[0;32mreturn\u001b[0m \u001b[0mself\u001b[0m\u001b[0;34m.\u001b[0m\u001b[0m_apply_boolean_mask\u001b[0m\u001b[0;34m(\u001b[0m\u001b[0mboolmask\u001b[0m\u001b[0;34m)\u001b[0m\u001b[0;34m\u001b[0m\u001b[0;34m\u001b[0m\u001b[0m\n\u001b[1;32m   4176\u001b[0m \u001b[0;34m\u001b[0m\u001b[0m\n",
      "\u001b[0;32m/usr/local/lib/python3.8/site-packages/cudf/utils/queryutils.py\u001b[0m in \u001b[0;36mquery_execute\u001b[0;34m(df, expr, callenv)\u001b[0m\n\u001b[1;32m    212\u001b[0m \u001b[0;34m\u001b[0m\u001b[0m\n\u001b[1;32m    213\u001b[0m     \u001b[0;31m# prepare col args\u001b[0m\u001b[0;34m\u001b[0m\u001b[0;34m\u001b[0m\u001b[0;34m\u001b[0m\u001b[0m\n\u001b[0;32m--> 214\u001b[0;31m     \u001b[0mcolarrays\u001b[0m \u001b[0;34m=\u001b[0m \u001b[0;34m[\u001b[0m\u001b[0mcudf\u001b[0m\u001b[0;34m.\u001b[0m\u001b[0mcore\u001b[0m\u001b[0;34m.\u001b[0m\u001b[0mdataframe\u001b[0m\u001b[0;34m.\u001b[0m\u001b[0mextract_col\u001b[0m\u001b[0;34m(\u001b[0m\u001b[0mdf\u001b[0m\u001b[0;34m,\u001b[0m \u001b[0mcol\u001b[0m\u001b[0;34m)\u001b[0m \u001b[0;32mfor\u001b[0m \u001b[0mcol\u001b[0m \u001b[0;32min\u001b[0m \u001b[0mcolumns\u001b[0m\u001b[0;34m]\u001b[0m\u001b[0;34m\u001b[0m\u001b[0;34m\u001b[0m\u001b[0m\n\u001b[0m\u001b[1;32m    215\u001b[0m \u001b[0;34m\u001b[0m\u001b[0m\n\u001b[1;32m    216\u001b[0m     \u001b[0;31m# wait to check the types until we know which cols are used\u001b[0m\u001b[0;34m\u001b[0m\u001b[0;34m\u001b[0m\u001b[0;34m\u001b[0m\u001b[0m\n",
      "\u001b[0;32m/usr/local/lib/python3.8/site-packages/cudf/utils/queryutils.py\u001b[0m in \u001b[0;36m<listcomp>\u001b[0;34m(.0)\u001b[0m\n\u001b[1;32m    212\u001b[0m \u001b[0;34m\u001b[0m\u001b[0m\n\u001b[1;32m    213\u001b[0m     \u001b[0;31m# prepare col args\u001b[0m\u001b[0;34m\u001b[0m\u001b[0;34m\u001b[0m\u001b[0;34m\u001b[0m\u001b[0m\n\u001b[0;32m--> 214\u001b[0;31m     \u001b[0mcolarrays\u001b[0m \u001b[0;34m=\u001b[0m \u001b[0;34m[\u001b[0m\u001b[0mcudf\u001b[0m\u001b[0;34m.\u001b[0m\u001b[0mcore\u001b[0m\u001b[0;34m.\u001b[0m\u001b[0mdataframe\u001b[0m\u001b[0;34m.\u001b[0m\u001b[0mextract_col\u001b[0m\u001b[0;34m(\u001b[0m\u001b[0mdf\u001b[0m\u001b[0;34m,\u001b[0m \u001b[0mcol\u001b[0m\u001b[0;34m)\u001b[0m \u001b[0;32mfor\u001b[0m \u001b[0mcol\u001b[0m \u001b[0;32min\u001b[0m \u001b[0mcolumns\u001b[0m\u001b[0;34m]\u001b[0m\u001b[0;34m\u001b[0m\u001b[0;34m\u001b[0m\u001b[0m\n\u001b[0m\u001b[1;32m    215\u001b[0m \u001b[0;34m\u001b[0m\u001b[0m\n\u001b[1;32m    216\u001b[0m     \u001b[0;31m# wait to check the types until we know which cols are used\u001b[0m\u001b[0;34m\u001b[0m\u001b[0;34m\u001b[0m\u001b[0;34m\u001b[0m\u001b[0m\n",
      "\u001b[0;32m/usr/local/lib/python3.8/site-packages/cudf/core/dataframe.py\u001b[0m in \u001b[0;36mextract_col\u001b[0;34m(df, col)\u001b[0m\n\u001b[1;32m   7565\u001b[0m         ):\n\u001b[1;32m   7566\u001b[0m             \u001b[0;32mreturn\u001b[0m \u001b[0mdf\u001b[0m\u001b[0;34m.\u001b[0m\u001b[0mindex\u001b[0m\u001b[0;34m.\u001b[0m\u001b[0m_data\u001b[0m\u001b[0;34m.\u001b[0m\u001b[0mcolumns\u001b[0m\u001b[0;34m[\u001b[0m\u001b[0;36m0\u001b[0m\u001b[0;34m]\u001b[0m\u001b[0;34m\u001b[0m\u001b[0;34m\u001b[0m\u001b[0m\n\u001b[0;32m-> 7567\u001b[0;31m         \u001b[0;32mreturn\u001b[0m \u001b[0mdf\u001b[0m\u001b[0;34m.\u001b[0m\u001b[0mindex\u001b[0m\u001b[0;34m.\u001b[0m\u001b[0m_data\u001b[0m\u001b[0;34m[\u001b[0m\u001b[0mcol\u001b[0m\u001b[0;34m]\u001b[0m\u001b[0;34m\u001b[0m\u001b[0;34m\u001b[0m\u001b[0m\n\u001b[0m\u001b[1;32m   7568\u001b[0m \u001b[0;34m\u001b[0m\u001b[0m\n\u001b[1;32m   7569\u001b[0m \u001b[0;34m\u001b[0m\u001b[0m\n",
      "\u001b[0;32m/usr/local/lib/python3.8/site-packages/cudf/core/column_accessor.py\u001b[0m in \u001b[0;36m__getitem__\u001b[0;34m(self, key)\u001b[0m\n\u001b[1;32m    153\u001b[0m \u001b[0;34m\u001b[0m\u001b[0m\n\u001b[1;32m    154\u001b[0m     \u001b[0;32mdef\u001b[0m \u001b[0m__getitem__\u001b[0m\u001b[0;34m(\u001b[0m\u001b[0mself\u001b[0m\u001b[0;34m,\u001b[0m \u001b[0mkey\u001b[0m\u001b[0;34m:\u001b[0m \u001b[0mAny\u001b[0m\u001b[0;34m)\u001b[0m \u001b[0;34m->\u001b[0m \u001b[0mColumnBase\u001b[0m\u001b[0;34m:\u001b[0m\u001b[0;34m\u001b[0m\u001b[0;34m\u001b[0m\u001b[0m\n\u001b[0;32m--> 155\u001b[0;31m         \u001b[0;32mreturn\u001b[0m \u001b[0mself\u001b[0m\u001b[0;34m.\u001b[0m\u001b[0m_data\u001b[0m\u001b[0;34m[\u001b[0m\u001b[0mkey\u001b[0m\u001b[0;34m]\u001b[0m\u001b[0;34m\u001b[0m\u001b[0;34m\u001b[0m\u001b[0m\n\u001b[0m\u001b[1;32m    156\u001b[0m \u001b[0;34m\u001b[0m\u001b[0m\n\u001b[1;32m    157\u001b[0m     \u001b[0;32mdef\u001b[0m \u001b[0m__setitem__\u001b[0m\u001b[0;34m(\u001b[0m\u001b[0mself\u001b[0m\u001b[0;34m,\u001b[0m \u001b[0mkey\u001b[0m\u001b[0;34m:\u001b[0m \u001b[0mAny\u001b[0m\u001b[0;34m,\u001b[0m \u001b[0mvalue\u001b[0m\u001b[0;34m:\u001b[0m \u001b[0mAny\u001b[0m\u001b[0;34m)\u001b[0m\u001b[0;34m:\u001b[0m\u001b[0;34m\u001b[0m\u001b[0;34m\u001b[0m\u001b[0m\n",
      "\u001b[0;31mKeyError\u001b[0m: 'a'"
     ]
    }
   ],
   "source": [
    "print(gdf.query('strings == a'))"
   ]
  },
  {
   "cell_type": "markdown",
   "metadata": {
    "id": "lSCM4JjQtTLm"
   },
   "source": [
    "### Method 2:  Simple Columns"
   ]
  },
  {
   "cell_type": "markdown",
   "metadata": {
    "id": "Uay_v7yYMeH4"
   },
   "source": [
    "#### Filtering Strings by Column Values\n"
   ]
  },
  {
   "cell_type": "code",
   "execution_count": null,
   "metadata": {
    "colab": {
     "base_uri": "https://localhost:8080/",
     "height": 451
    },
    "id": "152skbpUuMB0",
    "outputId": "564b2594-27d5-4cb6-c08d-7a2748aadb4b"
   },
   "outputs": [],
   "source": [
    "# DO NOT RUN\n",
    "# TOFIX: `cffi` package version mismatch error\n",
    "# Filtering based on the string column\n",
    "print(gdf[gdf.strings == 'b'])"
   ]
  },
  {
   "cell_type": "markdown",
   "metadata": {
    "id": "7pttT0CeuMB-"
   },
   "source": [
    "#### Filtering Integers/Floats by Column Values"
   ]
  },
  {
   "cell_type": "code",
   "execution_count": 26,
   "metadata": {
    "colab": {
     "base_uri": "https://localhost:8080/"
    },
    "id": "RA8I5SrbzXGo",
    "outputId": "b792c354-19c9-48f2-a0d1-564078ecf3ae"
   },
   "outputs": [
    {
     "name": "stdout",
     "output_type": "stream",
     "text": [
      "   integers strings\n",
      "1         2       b\n"
     ]
    }
   ],
   "source": [
    "# Filtering based on the string column\n",
    "print(gdf[gdf.integers == 2])"
   ]
  },
  {
   "cell_type": "markdown",
   "metadata": {
    "id": "XSIzUBhAILv2"
   },
   "source": [
    "### Method 2:  Simple Rows"
   ]
  },
  {
   "cell_type": "markdown",
   "metadata": {
    "id": "ODdEd8S0IMVT"
   },
   "source": [
    "#### Filtering by Row Numbers"
   ]
  },
  {
   "cell_type": "code",
   "execution_count": 25,
   "metadata": {
    "colab": {
     "base_uri": "https://localhost:8080/"
    },
    "id": "aG1ovxCGj0ON",
    "outputId": "ca514d83-8def-421e-899f-52d3a62875d0"
   },
   "outputs": [
    {
     "name": "stdout",
     "output_type": "stream",
     "text": [
      "   integers strings\n",
      "0         1       a\n",
      "1         2       b\n"
     ]
    }
   ],
   "source": [
    "# Filter rows 0 to 2 (not inclusive of the third row with the index 2)\n",
    "print(gdf[0:2])"
   ]
  },
  {
   "cell_type": "markdown",
   "metadata": {
    "id": "F7DUhC5zj2SM"
   },
   "source": [
    "### Method 3:  loc[rows, columns]"
   ]
  },
  {
   "cell_type": "code",
   "execution_count": 24,
   "metadata": {
    "colab": {
     "base_uri": "https://localhost:8080/"
    },
    "id": "KJjt9NJ0szos",
    "outputId": "228629f7-17c1-4c60-a999-608660450712"
   },
   "outputs": [
    {
     "name": "stdout",
     "output_type": "stream",
     "text": [
      "   integers\n",
      "0         1\n",
      "1         2\n",
      "2         3\n"
     ]
    }
   ],
   "source": [
    "# The syntax is as follows loc[rows, columns] allowing you to choose rows and columns accordingly\n",
    "# The example allows us to filter the first 3 rows (inclusive) of the column integers\n",
    "print(gdf.loc[0:2, ['integers']])"
   ]
  },
  {
   "cell_type": "code",
   "execution_count": null,
   "metadata": {
    "collapsed": true,
    "id": "7ipw5CUMuNPa",
    "jupyter": {
     "outputs_hidden": true
    }
   },
   "outputs": [],
   "source": []
  }
 ],
 "metadata": {
  "accelerator": "GPU",
  "colab": {
   "name": "rapids_cudf.ipynb",
   "provenance": []
  },
  "kernelspec": {
   "display_name": "Python 3 (ipykernel)",
   "language": "python",
   "name": "python3"
  },
  "language_info": {
   "codemirror_mode": {
    "name": "ipython",
    "version": 3
   },
   "file_extension": ".py",
   "mimetype": "text/x-python",
   "name": "python",
   "nbconvert_exporter": "python",
   "pygments_lexer": "ipython3",
   "version": "3.9.7"
  },
  "vscode": {
   "interpreter": {
    "hash": "916dbcbb3f70747c44a77c7bcd40155683ae19c65e1c03b4aa3499c5328201f1"
   }
  }
 },
 "nbformat": 4,
 "nbformat_minor": 4
}
